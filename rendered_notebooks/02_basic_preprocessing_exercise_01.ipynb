{
 "cells": [
  {
   "cell_type": "markdown",
   "execution_count": 1,
   "metadata": {},
   "source": [
    "#  Exercise 01\n",
    "\n",
    "The goal of is to compare the performance of our classifier (81% accuracy)\n",
    "to some baseline classifiers that  would ignore the input data and instead\n",
    "make constant predictions.\n",
    "\n",
    "- What would be the score of a model that always predicts `' >50K'`?\n",
    "- What would be the score of a model that always predicts `' <= 50K'`?\n",
    "- Is 81% or 82% accuracy a good score for this problem?\n",
    "\n",
    "Use a `DummyClassifier` and do a train-test split to evaluate\n",
    "its accuracy on the test set. This\n",
    "[link](https://scikit-learn.org/stable/modules/model_evaluation.html#dummy-estimators)\n",
    "shows a few examples of how to evaluate the performance of these baseline\n",
    "models."
   ]
  },
  {
   "cell_type": "code",
   "execution_count": 1,
   "metadata": {
    "execution": {
     "iopub.execute_input": "2020-09-16T16:15:59.718805Z",
     "iopub.status.busy": "2020-09-16T16:15:59.718129Z",
     "iopub.status.idle": "2020-09-16T16:16:00.226139Z",
     "shell.execute_reply": "2020-09-16T16:16:00.226818Z"
    }
   },
   "outputs": [],
   "source": [
    "import pandas as pd\n",
    "\n",
    "df = pd.read_csv(\"../datasets/adult-census.csv\")"
   ]
  },
  {
   "cell_type": "code",
   "execution_count": 2,
   "metadata": {
    "execution": {
     "iopub.execute_input": "2020-09-16T16:16:00.238404Z",
     "iopub.status.busy": "2020-09-16T16:16:00.237575Z",
     "iopub.status.idle": "2020-09-16T16:16:00.240078Z",
     "shell.execute_reply": "2020-09-16T16:16:00.240825Z"
    }
   },
   "outputs": [],
   "source": [
    "target_name = \"class\"\n",
    "target = df[target_name].to_numpy()\n",
    "data = df.drop(columns=[target_name, \"fnlwgt\"])"
   ]
  },
  {
   "cell_type": "code",
   "execution_count": 3,
   "metadata": {
    "execution": {
     "iopub.execute_input": "2020-09-16T16:16:00.246583Z",
     "iopub.status.busy": "2020-09-16T16:16:00.245896Z",
     "iopub.status.idle": "2020-09-16T16:16:00.801354Z",
     "shell.execute_reply": "2020-09-16T16:16:00.801980Z"
    }
   },
   "outputs": [],
   "source": [
    "from sklearn.compose import make_column_selector as selector\n",
    "\n",
    "numerical_columns_selector = selector(dtype_include=[\"int\", \"float\"])\n",
    "numerical_columns = numerical_columns_selector(data)\n",
    "data_numeric = data[numerical_columns]"
   ]
  },
  {
   "cell_type": "code",
   "execution_count": 4,
   "metadata": {
    "execution": {
     "iopub.execute_input": "2020-09-16T16:16:00.806717Z",
     "iopub.status.busy": "2020-09-16T16:16:00.805804Z",
     "iopub.status.idle": "2020-09-16T16:16:00.834250Z",
     "shell.execute_reply": "2020-09-16T16:16:00.834963Z"
    }
   },
   "outputs": [],
   "source": [
    "from sklearn.model_selection import train_test_split\n",
    "from sklearn.dummy import DummyClassifier\n",
    "\n",
    "# TODO: write me!"
   ]
  }
 ],
 "metadata": {
  "kernelspec": {
   "display_name": "Python 3",
   "language": "python",
   "name": "python3"
  },
  "language_info": {
   "codemirror_mode": {
    "name": "ipython",
    "version": 3
   },
   "file_extension": ".py",
   "mimetype": "text/x-python",
   "name": "python",
   "nbconvert_exporter": "python",
   "pygments_lexer": "ipython3",
   "version": "3.8.5"
  }
 },
 "nbformat": 4,
 "nbformat_minor": 4
}
