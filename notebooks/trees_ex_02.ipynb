{
 "cells": [
  {
   "cell_type": "markdown",
   "id": "intimate-shanghai",
   "metadata": {},
   "source": [
    "# 📝 Exercise 02\n",
    "\n",
    "The aim of this exercise is to find out whether a decision tree\n",
    "model is able to extrapolate.\n",
    "\n",
    "By extrapolation, we refer to values predicted by a model outside of the\n",
    "range of feature values seen during the training.\n",
    "\n",
    "We will first load the regression data."
   ]
  },
  {
   "cell_type": "code",
   "execution_count": null,
   "id": "above-championship",
   "metadata": {},
   "outputs": [],
   "source": [
    "import pandas as pd\n",
    "\n",
    "penguins = pd.read_csv(\"../datasets/penguins_regression.csv\")\n",
    "\n",
    "data_columns = [\"Flipper Length (mm)\"]\n",
    "target_column = \"Body Mass (g)\"\n",
    "\n",
    "data_train, target_train = penguins[data_columns], penguins[target_column]"
   ]
  },
  {
   "cell_type": "markdown",
   "id": "dress-pencil",
   "metadata": {},
   "source": [
    "First, create two models, a linear regression model and a decision tree\n",
    "regression model, and fit them on the training data. Limit the depth at\n",
    "3 levels for the decision tree."
   ]
  },
  {
   "cell_type": "code",
   "execution_count": null,
   "id": "related-transaction",
   "metadata": {},
   "outputs": [],
   "source": [
    "# Write your code here."
   ]
  },
  {
   "cell_type": "markdown",
   "id": "prescribed-compression",
   "metadata": {},
   "source": [
    "Create a testing dataset, ranging from the minimum to the maximum of the\n",
    "flipper length of the training dataset. Get the predictions of each model\n",
    "using this test dataset."
   ]
  },
  {
   "cell_type": "code",
   "execution_count": null,
   "id": "norwegian-boxing",
   "metadata": {},
   "outputs": [],
   "source": [
    "# Write your code here."
   ]
  },
  {
   "cell_type": "markdown",
   "id": "awful-israel",
   "metadata": {},
   "source": [
    "Create a scatter plot containing the training samples and superimpose the\n",
    "predictions of both model on the top."
   ]
  },
  {
   "cell_type": "code",
   "execution_count": null,
   "id": "prepared-dance",
   "metadata": {},
   "outputs": [],
   "source": [
    "# Write your code here."
   ]
  },
  {
   "cell_type": "markdown",
   "id": "capital-survival",
   "metadata": {},
   "source": [
    "Now, we will check the extrapolation capabilities of each model. Create a\n",
    "dataset containing the value of your previous dataset. Besides, add values\n",
    "below and above the minimum and the maximum of the flipper length seen\n",
    "during training."
   ]
  },
  {
   "cell_type": "code",
   "execution_count": null,
   "id": "broke-stevens",
   "metadata": {},
   "outputs": [],
   "source": [
    "# Write your code here."
   ]
  },
  {
   "cell_type": "markdown",
   "id": "elementary-russian",
   "metadata": {},
   "source": [
    "Finally, make predictions with both model on this new testing set. Repeat\n",
    "the plotting of the previous exercise."
   ]
  },
  {
   "cell_type": "code",
   "execution_count": null,
   "id": "charitable-pendant",
   "metadata": {},
   "outputs": [],
   "source": [
    "# Write your code here."
   ]
  }
 ],
 "metadata": {
  "jupytext": {
   "cell_metadata_filter": "-all",
   "main_language": "python",
   "notebook_metadata_filter": "-all"
  }
 },
 "nbformat": 4,
 "nbformat_minor": 5
}
