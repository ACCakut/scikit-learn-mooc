{
 "cells": [
  {
   "cell_type": "markdown",
   "id": "consecutive-lyric",
   "metadata": {},
   "source": [
    "# 📃 Solution for Exercise 01"
   ]
  },
  {
   "cell_type": "markdown",
   "id": "generic-paintball",
   "metadata": {},
   "source": [
    "Imagine we are interested by predicting penguins species based on two of\n",
    "their body measurements: culmen length and culmen depth. First we want to do\n",
    "some data exploration to get a feel for the data.\n",
    "\n",
    "What are the features? What is the target?"
   ]
  },
  {
   "cell_type": "code",
   "execution_count": null,
   "id": "together-breakfast",
   "metadata": {
    "title": "markdown"
   },
   "outputs": [],
   "source": [
    "# The features are \"culmen length\" and \"culmen depth\".\n",
    "# The target is the penguin species."
   ]
  },
  {
   "cell_type": "markdown",
   "id": "vietnamese-picnic",
   "metadata": {},
   "source": [
    "The data is located in `../datasets/penguins_classification.csv`, load it\n",
    "with `pandas` into a `DataFrame`."
   ]
  },
  {
   "cell_type": "code",
   "execution_count": null,
   "id": "smooth-ghana",
   "metadata": {},
   "outputs": [],
   "source": [
    "import pandas as pd\n",
    "\n",
    "penguins = pd.read_csv(\"../datasets/penguins_classification.csv\")"
   ]
  },
  {
   "cell_type": "markdown",
   "id": "piano-stable",
   "metadata": {},
   "source": [
    "Show a few samples of the data\n",
    "\n",
    "How many features are numerical? How many features are categorical?"
   ]
  },
  {
   "cell_type": "markdown",
   "id": "eleven-harbor",
   "metadata": {},
   "source": [
    "Both features, \"culmen length\" and \"culmen depth\" are numerical. There are no\n",
    "categorical features in this dataset."
   ]
  },
  {
   "cell_type": "code",
   "execution_count": null,
   "id": "warming-christianity",
   "metadata": {},
   "outputs": [],
   "source": [
    "penguins.head()"
   ]
  },
  {
   "cell_type": "markdown",
   "id": "gothic-recorder",
   "metadata": {},
   "source": [
    "What are the different penguins species available in the dataset and how many\n",
    "samples of each species are there? Hint: select the right column and use\n",
    "the [`value_counts`](https://pandas.pydata.org/pandas-docs/stable/reference/api/pandas.Series.value_counts.html) method."
   ]
  },
  {
   "cell_type": "code",
   "execution_count": null,
   "id": "banned-damages",
   "metadata": {},
   "outputs": [],
   "source": [
    "penguins[\"Species\"].value_counts()"
   ]
  },
  {
   "cell_type": "markdown",
   "id": "isolated-washington",
   "metadata": {},
   "source": [
    "Plot histograms for the numerical features"
   ]
  },
  {
   "cell_type": "code",
   "execution_count": null,
   "id": "close-puppy",
   "metadata": {},
   "outputs": [],
   "source": [
    "penguins.hist()"
   ]
  },
  {
   "cell_type": "markdown",
   "id": "joint-postage",
   "metadata": {},
   "source": [
    "Show features distribution for each class. Hint: use\n",
    "[`seaborn.pairplot`](https://seaborn.pydata.org/generated/seaborn.pairplot.html)"
   ]
  },
  {
   "cell_type": "code",
   "execution_count": null,
   "id": "small-withdrawal",
   "metadata": {},
   "outputs": [],
   "source": [
    "import seaborn\n",
    "\n",
    "seaborn.pairplot(penguins, hue=\"Species\")"
   ]
  },
  {
   "cell_type": "markdown",
   "id": "prostate-liabilities",
   "metadata": {},
   "source": [
    "Looking at these distributions, how hard do you think it will be to classify\n",
    "the penguins only using \"culmen depth\" and \"culmen length\"?"
   ]
  },
  {
   "cell_type": "markdown",
   "id": "gross-compensation",
   "metadata": {},
   "source": [
    "Looking at the previous scatter-plot showing \"culmen length\" and \"culmen\n",
    "depth\", the species are reasonably well separated:\n",
    "- low culmen length -> Adelie\n",
    "- low culmen depth -> Gentoo\n",
    "- high culmen depth and high culmen length -> Chinstrap\n",
    "\n",
    "There is some small overlap between the species, so we can expect a\n",
    "statistical model to perform well on this dataset but not perfectly."
   ]
  }
 ],
 "metadata": {
  "kernelspec": {
   "display_name": "Python 3",
   "language": "python",
   "name": "python3"
  }
 },
 "nbformat": 4,
 "nbformat_minor": 5
}
