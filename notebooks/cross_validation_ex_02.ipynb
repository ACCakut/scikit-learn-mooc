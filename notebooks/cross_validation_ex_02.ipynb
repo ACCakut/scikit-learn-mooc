{
 "cells": [
  {
   "cell_type": "markdown",
   "id": "acoustic-baseline",
   "metadata": {},
   "source": [
    "# 📝 Exercise 02\n",
    "\n",
    "This notebook aims at building baseline classifiers, which we'll use to\n",
    "compare our predictive model. Besides, we will check the differences with\n",
    "the baselines that we saw in regression.\n",
    "\n",
    "We will use the adult census dataset, using only the numerical features."
   ]
  },
  {
   "cell_type": "code",
   "execution_count": null,
   "id": "occasional-subscription",
   "metadata": {},
   "outputs": [],
   "source": [
    "import pandas as pd\n",
    "\n",
    "adult_census = pd.read_csv(\"../datasets/adult-census-numeric-all.csv\")\n",
    "data, target = adult_census.drop(columns=\"class\"), adult_census[\"class\"]"
   ]
  },
  {
   "cell_type": "markdown",
   "id": "infinite-affiliate",
   "metadata": {},
   "source": [
    "First, define a `ShuffleSplit` cross-validation strategy taking half of the\n",
    "sample as a testing at each round."
   ]
  },
  {
   "cell_type": "code",
   "execution_count": null,
   "id": "wound-coral",
   "metadata": {},
   "outputs": [],
   "source": [
    "# Write your code here."
   ]
  },
  {
   "cell_type": "markdown",
   "id": "entire-builder",
   "metadata": {},
   "source": [
    "Next, create a machine learning pipeline composed of a transformer to\n",
    "standardize the data followed by a logistic regression."
   ]
  },
  {
   "cell_type": "code",
   "execution_count": null,
   "id": "inappropriate-irrigation",
   "metadata": {},
   "outputs": [],
   "source": [
    "# Write your code here."
   ]
  },
  {
   "cell_type": "markdown",
   "id": "different-accordance",
   "metadata": {},
   "source": [
    "Get the test score by using the model, the data, and the cross-validation\n",
    "strategy that you defined above."
   ]
  },
  {
   "cell_type": "code",
   "execution_count": null,
   "id": "developmental-thriller",
   "metadata": {},
   "outputs": [],
   "source": [
    "# Write your code here."
   ]
  },
  {
   "cell_type": "markdown",
   "id": "warming-paint",
   "metadata": {},
   "source": [
    "Using the `sklearn.model_selection.permutation_test_score` function,\n",
    "check the chance level of the previous model."
   ]
  },
  {
   "cell_type": "code",
   "execution_count": null,
   "id": "advisory-designer",
   "metadata": {},
   "outputs": [],
   "source": [
    "# Write your code here."
   ]
  },
  {
   "cell_type": "markdown",
   "id": "unlimited-agenda",
   "metadata": {},
   "source": [
    "Finally, compute the test score of a dummy classifier which would predict\n",
    "the most frequent class from the training set. You can look at the\n",
    "`sklearn.dummy.DummyClassifier` class."
   ]
  },
  {
   "cell_type": "code",
   "execution_count": null,
   "id": "pretty-armor",
   "metadata": {},
   "outputs": [],
   "source": [
    "# Write your code here."
   ]
  },
  {
   "cell_type": "markdown",
   "id": "comparable-afternoon",
   "metadata": {},
   "source": [
    "Now that we collected the results from the baselines and the model, plot\n",
    "the distributions of the different test scores."
   ]
  },
  {
   "cell_type": "markdown",
   "id": "given-ebony",
   "metadata": {},
   "source": [
    "We concatenate the different test score in the same pandas dataframe."
   ]
  },
  {
   "cell_type": "code",
   "execution_count": null,
   "id": "single-assist",
   "metadata": {},
   "outputs": [],
   "source": [
    "# Write your code here."
   ]
  },
  {
   "cell_type": "markdown",
   "id": "coordinated-expression",
   "metadata": {},
   "source": [
    "Next, plot the distributions of the test scores."
   ]
  },
  {
   "cell_type": "code",
   "execution_count": null,
   "id": "sophisticated-figure",
   "metadata": {},
   "outputs": [],
   "source": [
    "# Write your code here."
   ]
  },
  {
   "cell_type": "markdown",
   "id": "ignored-marriage",
   "metadata": {},
   "source": [
    "Change the strategy of the dummy classifier to `stratified`, compute the\n",
    "results and plot the distribution together with the other results. Explain\n",
    "why the results get worse."
   ]
  },
  {
   "cell_type": "code",
   "execution_count": null,
   "id": "different-broadway",
   "metadata": {},
   "outputs": [],
   "source": [
    "# Write your code here."
   ]
  }
 ],
 "metadata": {
  "jupytext": {
   "cell_metadata_filter": "-all",
   "main_language": "python",
   "notebook_metadata_filter": "-all"
  }
 },
 "nbformat": 4,
 "nbformat_minor": 5
}
